{
 "cells": [
  {
   "cell_type": "code",
   "execution_count": 1,
   "id": "cbf16587",
   "metadata": {},
   "outputs": [],
   "source": [
    "\n",
    "import polars as pl\n",
    "import pyarrow as pa"
   ]
  },
  {
   "cell_type": "code",
   "execution_count": 2,
   "id": "d9379925",
   "metadata": {},
   "outputs": [],
   "source": [
    "df = pl.read_parquet(\"0701_5s.parquet\")"
   ]
  },
  {
   "cell_type": "code",
   "execution_count": 3,
   "id": "b48d141a",
   "metadata": {},
   "outputs": [],
   "source": [
    "pa_table = df.to_arrow()"
   ]
  },
  {
   "cell_type": "code",
   "execution_count": 4,
   "id": "ca5f7df4",
   "metadata": {},
   "outputs": [
    {
     "data": {
      "text/html": [
       "<div><style>\n",
       ".dataframe > thead > tr,\n",
       ".dataframe > tbody > tr {\n",
       "  text-align: right;\n",
       "  white-space: pre-wrap;\n",
       "}\n",
       "</style>\n",
       "<small>shape: (967_584, 102)</small><table border=\"1\" class=\"dataframe\"><thead><tr><th>symbol</th><th>local_timestamp</th><th>a1_p</th><th>a1_v</th><th>b1_p</th><th>b1_v</th><th>a2_p</th><th>a2_v</th><th>b2_p</th><th>b2_v</th><th>a3_p</th><th>a3_v</th><th>b3_p</th><th>b3_v</th><th>a4_p</th><th>a4_v</th><th>b4_p</th><th>b4_v</th><th>a5_p</th><th>a5_v</th><th>b5_p</th><th>b5_v</th><th>a6_p</th><th>a6_v</th><th>b6_p</th><th>b6_v</th><th>a7_p</th><th>a7_v</th><th>b7_p</th><th>b7_v</th><th>a8_p</th><th>a8_v</th><th>b8_p</th><th>b8_v</th><th>a9_p</th><th>a9_v</th><th>b9_p</th><th>&hellip;</th><th>b16_v</th><th>a17_p</th><th>a17_v</th><th>b17_p</th><th>b17_v</th><th>a18_p</th><th>a18_v</th><th>b18_p</th><th>b18_v</th><th>a19_p</th><th>a19_v</th><th>b19_p</th><th>b19_v</th><th>a20_p</th><th>a20_v</th><th>b20_p</th><th>b20_v</th><th>a21_p</th><th>a21_v</th><th>b21_p</th><th>b21_v</th><th>a22_p</th><th>a22_v</th><th>b22_p</th><th>b22_v</th><th>a23_p</th><th>a23_v</th><th>b23_p</th><th>b23_v</th><th>a24_p</th><th>a24_v</th><th>b24_p</th><th>b24_v</th><th>a25_p</th><th>a25_v</th><th>b25_p</th><th>b25_v</th></tr><tr><td>str</td><td>datetime[μs]</td><td>f64</td><td>f64</td><td>f64</td><td>f64</td><td>f64</td><td>f64</td><td>f64</td><td>f64</td><td>f64</td><td>f64</td><td>f64</td><td>f64</td><td>f64</td><td>f64</td><td>f64</td><td>f64</td><td>f64</td><td>f64</td><td>f64</td><td>f64</td><td>f64</td><td>f64</td><td>f64</td><td>f64</td><td>f64</td><td>f64</td><td>f64</td><td>f64</td><td>f64</td><td>f64</td><td>f64</td><td>f64</td><td>f64</td><td>f64</td><td>f64</td><td>&hellip;</td><td>f64</td><td>f64</td><td>f64</td><td>f64</td><td>f64</td><td>f64</td><td>f64</td><td>f64</td><td>f64</td><td>f64</td><td>f64</td><td>f64</td><td>f64</td><td>f64</td><td>f64</td><td>f64</td><td>f64</td><td>f64</td><td>f64</td><td>f64</td><td>f64</td><td>f64</td><td>f64</td><td>f64</td><td>f64</td><td>f64</td><td>f64</td><td>f64</td><td>f64</td><td>f64</td><td>f64</td><td>f64</td><td>f64</td><td>f64</td><td>f64</td><td>f64</td><td>f64</td></tr></thead><tbody><tr><td>&quot;FLOWUSDT&quot;</td><td>2025-07-01 00:00:05</td><td>0.328</td><td>157141.40625</td><td>0.327</td><td>112524.203125</td><td>0.329</td><td>190783.09375</td><td>0.326</td><td>113347.703125</td><td>0.33</td><td>128712.398438</td><td>0.325</td><td>130835.296875</td><td>0.331</td><td>112233.898438</td><td>0.324</td><td>126709.796875</td><td>0.332</td><td>79571.601562</td><td>0.323</td><td>103872.296875</td><td>0.333</td><td>105600.601562</td><td>0.322</td><td>91746.796875</td><td>0.334</td><td>116636.898438</td><td>0.321</td><td>90839.703125</td><td>0.335</td><td>102179.398438</td><td>0.32</td><td>136052.0</td><td>0.336</td><td>143651.703125</td><td>0.319</td><td>&hellip;</td><td>212093.296875</td><td>0.344</td><td>58606.699219</td><td>0.311</td><td>329858.5</td><td>0.345</td><td>18839.300781</td><td>0.31</td><td>36999.398438</td><td>0.346</td><td>43492.699219</td><td>0.309</td><td>81827.601562</td><td>0.347</td><td>62090.199219</td><td>0.308</td><td>72606.101562</td><td>0.348</td><td>38064.5</td><td>0.307</td><td>69151.0</td><td>0.349</td><td>114953.203125</td><td>0.306</td><td>119990.101562</td><td>0.35</td><td>45190.101562</td><td>0.305</td><td>5753.5</td><td>0.351</td><td>87840.796875</td><td>0.304</td><td>29825.199219</td><td>0.352</td><td>15669.599609</td><td>0.303</td><td>52795.699219</td></tr><tr><td>&quot;FLOWUSDT&quot;</td><td>2025-07-01 00:00:10</td><td>0.328</td><td>168255.796875</td><td>0.327</td><td>104578.796875</td><td>0.329</td><td>192185.09375</td><td>0.326</td><td>123469.398438</td><td>0.33</td><td>131035.703125</td><td>0.325</td><td>139221.40625</td><td>0.331</td><td>115268.796875</td><td>0.324</td><td>135814.5</td><td>0.332</td><td>82606.5</td><td>0.323</td><td>106907.203125</td><td>0.333</td><td>108740.398438</td><td>0.322</td><td>100851.5</td><td>0.334</td><td>119671.796875</td><td>0.321</td><td>99944.398438</td><td>0.335</td><td>105214.296875</td><td>0.32</td><td>139086.90625</td><td>0.336</td><td>146686.59375</td><td>0.319</td><td>&hellip;</td><td>212093.296875</td><td>0.344</td><td>58606.699219</td><td>0.311</td><td>345917.0</td><td>0.345</td><td>18839.300781</td><td>0.31</td><td>36999.398438</td><td>0.346</td><td>43492.699219</td><td>0.309</td><td>81827.601562</td><td>0.347</td><td>62090.199219</td><td>0.308</td><td>70243.0</td><td>0.348</td><td>38064.5</td><td>0.307</td><td>69151.0</td><td>0.349</td><td>114953.203125</td><td>0.306</td><td>119990.101562</td><td>0.35</td><td>45190.101562</td><td>0.305</td><td>5753.5</td><td>0.351</td><td>87840.796875</td><td>0.304</td><td>29825.199219</td><td>0.352</td><td>15669.599609</td><td>0.303</td><td>52795.699219</td></tr><tr><td>&quot;FLOWUSDT&quot;</td><td>2025-07-01 00:00:15</td><td>0.328</td><td>168832.703125</td><td>0.327</td><td>106510.296875</td><td>0.329</td><td>193763.40625</td><td>0.326</td><td>123493.101562</td><td>0.33</td><td>131035.703125</td><td>0.325</td><td>139203.203125</td><td>0.331</td><td>117711.5</td><td>0.324</td><td>135832.703125</td><td>0.332</td><td>82606.5</td><td>0.323</td><td>106907.203125</td><td>0.333</td><td>123129.898438</td><td>0.322</td><td>100851.5</td><td>0.334</td><td>134004.90625</td><td>0.321</td><td>99944.398438</td><td>0.335</td><td>105214.296875</td><td>0.32</td><td>139086.90625</td><td>0.336</td><td>146686.59375</td><td>0.319</td><td>&hellip;</td><td>212093.296875</td><td>0.344</td><td>58606.699219</td><td>0.311</td><td>360358.5</td><td>0.345</td><td>18839.300781</td><td>0.31</td><td>36999.398438</td><td>0.346</td><td>43492.699219</td><td>0.309</td><td>81827.601562</td><td>0.347</td><td>62090.199219</td><td>0.308</td><td>70243.0</td><td>0.348</td><td>38064.5</td><td>0.307</td><td>69151.0</td><td>0.349</td><td>114953.203125</td><td>0.306</td><td>119990.101562</td><td>0.35</td><td>45190.101562</td><td>0.305</td><td>20505.599609</td><td>0.351</td><td>87840.796875</td><td>0.304</td><td>29825.199219</td><td>0.352</td><td>15669.599609</td><td>0.303</td><td>52795.699219</td></tr><tr><td>&quot;FLOWUSDT&quot;</td><td>2025-07-01 00:00:20</td><td>0.328</td><td>176861.0</td><td>0.327</td><td>107308.101562</td><td>0.329</td><td>193763.40625</td><td>0.326</td><td>141370.5</td><td>0.33</td><td>131035.703125</td><td>0.325</td><td>139003.203125</td><td>0.331</td><td>117711.5</td><td>0.324</td><td>135832.703125</td><td>0.332</td><td>82606.5</td><td>0.323</td><td>106907.203125</td><td>0.333</td><td>123129.898438</td><td>0.322</td><td>100851.5</td><td>0.334</td><td>134004.90625</td><td>0.321</td><td>99944.398438</td><td>0.335</td><td>105214.296875</td><td>0.32</td><td>139086.90625</td><td>0.336</td><td>146686.59375</td><td>0.319</td><td>&hellip;</td><td>212093.296875</td><td>0.344</td><td>58606.699219</td><td>0.311</td><td>360358.5</td><td>0.345</td><td>18839.300781</td><td>0.31</td><td>36999.398438</td><td>0.346</td><td>43492.699219</td><td>0.309</td><td>81827.601562</td><td>0.347</td><td>62090.199219</td><td>0.308</td><td>70243.0</td><td>0.348</td><td>38064.5</td><td>0.307</td><td>69151.0</td><td>0.349</td><td>114953.203125</td><td>0.306</td><td>119990.101562</td><td>0.35</td><td>45190.101562</td><td>0.305</td><td>23937.800781</td><td>0.351</td><td>87840.796875</td><td>0.304</td><td>29825.199219</td><td>0.352</td><td>15669.599609</td><td>0.303</td><td>52795.699219</td></tr><tr><td>&quot;FLOWUSDT&quot;</td><td>2025-07-01 00:00:25</td><td>0.328</td><td>199237.59375</td><td>0.327</td><td>105316.703125</td><td>0.329</td><td>193763.40625</td><td>0.326</td><td>139289.90625</td><td>0.33</td><td>131035.703125</td><td>0.325</td><td>139203.203125</td><td>0.331</td><td>117711.5</td><td>0.324</td><td>135832.703125</td><td>0.332</td><td>82907.601562</td><td>0.323</td><td>106907.203125</td><td>0.333</td><td>123129.898438</td><td>0.322</td><td>100851.5</td><td>0.334</td><td>134004.90625</td><td>0.321</td><td>99944.398438</td><td>0.335</td><td>105512.398438</td><td>0.32</td><td>139086.90625</td><td>0.336</td><td>146686.59375</td><td>0.319</td><td>&hellip;</td><td>212093.296875</td><td>0.344</td><td>58606.699219</td><td>0.311</td><td>360358.5</td><td>0.345</td><td>18839.300781</td><td>0.31</td><td>36999.398438</td><td>0.346</td><td>43492.699219</td><td>0.309</td><td>81827.601562</td><td>0.347</td><td>62090.199219</td><td>0.308</td><td>70243.0</td><td>0.348</td><td>38064.5</td><td>0.307</td><td>69151.0</td><td>0.349</td><td>114953.203125</td><td>0.306</td><td>122273.898438</td><td>0.35</td><td>45190.101562</td><td>0.305</td><td>20505.599609</td><td>0.351</td><td>87840.796875</td><td>0.304</td><td>29825.199219</td><td>0.352</td><td>15669.599609</td><td>0.303</td><td>52795.699219</td></tr><tr><td>&hellip;</td><td>&hellip;</td><td>&hellip;</td><td>&hellip;</td><td>&hellip;</td><td>&hellip;</td><td>&hellip;</td><td>&hellip;</td><td>&hellip;</td><td>&hellip;</td><td>&hellip;</td><td>&hellip;</td><td>&hellip;</td><td>&hellip;</td><td>&hellip;</td><td>&hellip;</td><td>&hellip;</td><td>&hellip;</td><td>&hellip;</td><td>&hellip;</td><td>&hellip;</td><td>&hellip;</td><td>&hellip;</td><td>&hellip;</td><td>&hellip;</td><td>&hellip;</td><td>&hellip;</td><td>&hellip;</td><td>&hellip;</td><td>&hellip;</td><td>&hellip;</td><td>&hellip;</td><td>&hellip;</td><td>&hellip;</td><td>&hellip;</td><td>&hellip;</td><td>&hellip;</td><td>&hellip;</td><td>&hellip;</td><td>&hellip;</td><td>&hellip;</td><td>&hellip;</td><td>&hellip;</td><td>&hellip;</td><td>&hellip;</td><td>&hellip;</td><td>&hellip;</td><td>&hellip;</td><td>&hellip;</td><td>&hellip;</td><td>&hellip;</td><td>&hellip;</td><td>&hellip;</td><td>&hellip;</td><td>&hellip;</td><td>&hellip;</td><td>&hellip;</td><td>&hellip;</td><td>&hellip;</td><td>&hellip;</td><td>&hellip;</td><td>&hellip;</td><td>&hellip;</td><td>&hellip;</td><td>&hellip;</td><td>&hellip;</td><td>&hellip;</td><td>&hellip;</td><td>&hellip;</td><td>&hellip;</td><td>&hellip;</td><td>&hellip;</td><td>&hellip;</td><td>&hellip;</td><td>&hellip;</td></tr><tr><td>&quot;1000PEPEUSDT&quot;</td><td>2025-07-01 23:59:40</td><td>0.009252</td><td>992749.0</td><td>0.009252</td><td>441558.0</td><td>0.009252</td><td>552.0</td><td>0.009252</td><td>2184.0</td><td>0.009252</td><td>316415.0</td><td>0.009252</td><td>1104.0</td><td>0.009252</td><td>218612.0</td><td>0.009252</td><td>6395.0</td><td>0.009252</td><td>219883.0</td><td>0.009251</td><td>101463.0</td><td>0.009252</td><td>785659.0</td><td>0.009251</td><td>148112.0</td><td>0.009253</td><td>239829.0</td><td>0.009251</td><td>219132.0</td><td>0.009253</td><td>288756.0</td><td>0.009251</td><td>403439.0</td><td>0.009253</td><td>1.281059e6</td><td>0.009251</td><td>&hellip;</td><td>563137.0</td><td>0.009254</td><td>141144.0</td><td>0.00925</td><td>284118.0</td><td>0.009254</td><td>383136.0</td><td>0.00925</td><td>533254.0</td><td>0.009254</td><td>1147.0</td><td>0.00925</td><td>24519.0</td><td>0.009254</td><td>365390.0</td><td>0.00925</td><td>529559.0</td><td>0.009254</td><td>421977.0</td><td>0.00925</td><td>192853.0</td><td>0.009254</td><td>469675.0</td><td>0.00925</td><td>517981.0</td><td>0.009254</td><td>469675.0</td><td>0.00925</td><td>67563.0</td><td>0.009254</td><td>476594.0</td><td>0.00925</td><td>654589.0</td><td>0.009254</td><td>217380.0</td><td>0.009249</td><td>579621.0</td></tr><tr><td>&quot;1000PEPEUSDT&quot;</td><td>2025-07-01 23:59:45</td><td>0.009252</td><td>580171.0</td><td>0.009252</td><td>456495.0</td><td>0.009252</td><td>1104.0</td><td>0.009252</td><td>2184.0</td><td>0.009252</td><td>552.0</td><td>0.009252</td><td>1104.0</td><td>0.009252</td><td>218718.0</td><td>0.009252</td><td>224009.0</td><td>0.009252</td><td>2375.0</td><td>0.009251</td><td>240689.0</td><td>0.009252</td><td>572207.0</td><td>0.009251</td><td>17646.0</td><td>0.009253</td><td>617781.0</td><td>0.009251</td><td>219280.0</td><td>0.009253</td><td>218718.0</td><td>0.009251</td><td>188293.0</td><td>0.009253</td><td>856713.0</td><td>0.009251</td><td>&hellip;</td><td>346979.0</td><td>0.009254</td><td>162256.0</td><td>0.00925</td><td>249891.0</td><td>0.009254</td><td>383136.0</td><td>0.00925</td><td>499027.0</td><td>0.009254</td><td>2418.0</td><td>0.00925</td><td>24519.0</td><td>0.009254</td><td>419926.0</td><td>0.00925</td><td>589718.0</td><td>0.009254</td><td>421977.0</td><td>0.00925</td><td>424005.0</td><td>0.009254</td><td>469675.0</td><td>0.00925</td><td>582155.0</td><td>0.009254</td><td>469675.0</td><td>0.00925</td><td>283735.0</td><td>0.009254</td><td>476594.0</td><td>0.00925</td><td>654589.0</td><td>0.009254</td><td>548913.0</td><td>0.009249</td><td>236705.0</td></tr><tr><td>&quot;1000PEPEUSDT&quot;</td><td>2025-07-01 23:59:50</td><td>0.009252</td><td>605586.0</td><td>0.009252</td><td>594242.0</td><td>0.009252</td><td>1104.0</td><td>0.009252</td><td>2184.0</td><td>0.009252</td><td>552.0</td><td>0.009252</td><td>202153.0</td><td>0.009252</td><td>218769.0</td><td>0.009252</td><td>229735.0</td><td>0.009252</td><td>1104.0</td><td>0.009251</td><td>288433.0</td><td>0.009252</td><td>13797.0</td><td>0.009251</td><td>159593.0</td><td>0.009253</td><td>255870.0</td><td>0.009251</td><td>1666.0</td><td>0.009253</td><td>218718.0</td><td>0.009251</td><td>188845.0</td><td>0.009253</td><td>126575.0</td><td>0.009251</td><td>&hellip;</td><td>226383.0</td><td>0.009254</td><td>141144.0</td><td>0.00925</td><td>249891.0</td><td>0.009254</td><td>383136.0</td><td>0.00925</td><td>499027.0</td><td>0.009254</td><td>218812.0</td><td>0.00925</td><td>58746.0</td><td>0.009254</td><td>419926.0</td><td>0.00925</td><td>246802.0</td><td>0.009254</td><td>421977.0</td><td>0.00925</td><td>363390.0</td><td>0.009254</td><td>469675.0</td><td>0.00925</td><td>582155.0</td><td>0.009254</td><td>469675.0</td><td>0.00925</td><td>254790.0</td><td>0.009254</td><td>476594.0</td><td>0.00925</td><td>63264.0</td><td>0.009254</td><td>548913.0</td><td>0.009249</td><td>506812.0</td></tr><tr><td>&quot;1000PEPEUSDT&quot;</td><td>2025-07-01 23:59:55</td><td>0.009252</td><td>521698.0</td><td>0.009252</td><td>2.95283e6</td><td>0.009252</td><td>1104.0</td><td>0.009252</td><td>2184.0</td><td>0.009252</td><td>552.0</td><td>0.009252</td><td>1104.0</td><td>0.009252</td><td>1104.0</td><td>0.009252</td><td>357998.0</td><td>0.009252</td><td>1104.0</td><td>0.009251</td><td>509922.0</td><td>0.009252</td><td>220935.0</td><td>0.009251</td><td>516329.0</td><td>0.009253</td><td>255870.0</td><td>0.009251</td><td>376766.0</td><td>0.009253</td><td>218718.0</td><td>0.009251</td><td>909873.0</td><td>0.009253</td><td>126575.0</td><td>0.009251</td><td>&hellip;</td><td>226383.0</td><td>0.009254</td><td>142415.0</td><td>0.00925</td><td>249891.0</td><td>0.009254</td><td>383136.0</td><td>0.00925</td><td>533254.0</td><td>0.009254</td><td>218812.0</td><td>0.00925</td><td>58746.0</td><td>0.009254</td><td>419926.0</td><td>0.00925</td><td>246802.0</td><td>0.009254</td><td>421977.0</td><td>0.00925</td><td>363390.0</td><td>0.009254</td><td>469675.0</td><td>0.00925</td><td>582155.0</td><td>0.009254</td><td>469675.0</td><td>0.00925</td><td>726935.0</td><td>0.009254</td><td>476594.0</td><td>0.00925</td><td>34319.0</td><td>0.009254</td><td>493472.0</td><td>0.009249</td><td>397502.0</td></tr><tr><td>&quot;1000PEPEUSDT&quot;</td><td>2025-07-02 00:00:00</td><td>0.009252</td><td>34534.0</td><td>0.009252</td><td>8.41201e6</td><td>0.009253</td><td>38757.0</td><td>0.009252</td><td>257664.0</td><td>0.009253</td><td>2162.0</td><td>0.009252</td><td>296654.0</td><td>0.009253</td><td>1104.0</td><td>0.009252</td><td>1.552949e6</td><td>0.009253</td><td>1104.0</td><td>0.009252</td><td>2.313152e6</td><td>0.009253</td><td>3969.0</td><td>0.009252</td><td>1.767497e6</td><td>0.009253</td><td>220943.0</td><td>0.009252</td><td>1.879371e6</td><td>0.009253</td><td>234574.0</td><td>0.009252</td><td>2.384302e6</td><td>0.009253</td><td>84407.0</td><td>0.009252</td><td>&hellip;</td><td>425228.0</td><td>0.009254</td><td>552.0</td><td>0.009251</td><td>222737.0</td><td>0.009254</td><td>357670.0</td><td>0.009251</td><td>37447.0</td><td>0.009254</td><td>12210.0</td><td>0.009251</td><td>39104.0</td><td>0.009254</td><td>493472.0</td><td>0.009251</td><td>196766.0</td><td>0.009255</td><td>232825.0</td><td>0.00925</td><td>436102.0</td><td>0.009255</td><td>112619.0</td><td>0.00925</td><td>478121.0</td><td>0.009255</td><td>786951.0</td><td>0.00925</td><td>223417.0</td><td>0.009255</td><td>2336.0</td><td>0.00925</td><td>1309.0</td><td>0.009255</td><td>219906.0</td><td>0.00925</td><td>250558.0</td></tr></tbody></table></div>"
      ],
      "text/plain": [
       "shape: (967_584, 102)\n",
       "┌────────────┬────────────┬──────────┬───────────┬───┬──────────┬───────────┬──────────┬───────────┐\n",
       "│ symbol     ┆ local_time ┆ a1_p     ┆ a1_v      ┆ … ┆ a25_p    ┆ a25_v     ┆ b25_p    ┆ b25_v     │\n",
       "│ ---        ┆ stamp      ┆ ---      ┆ ---       ┆   ┆ ---      ┆ ---       ┆ ---      ┆ ---       │\n",
       "│ str        ┆ ---        ┆ f64      ┆ f64       ┆   ┆ f64      ┆ f64       ┆ f64      ┆ f64       │\n",
       "│            ┆ datetime[μ ┆          ┆           ┆   ┆          ┆           ┆          ┆           │\n",
       "│            ┆ s]         ┆          ┆           ┆   ┆          ┆           ┆          ┆           │\n",
       "╞════════════╪════════════╪══════════╪═══════════╪═══╪══════════╪═══════════╪══════════╪═══════════╡\n",
       "│ FLOWUSDT   ┆ 2025-07-01 ┆ 0.328    ┆ 157141.40 ┆ … ┆ 0.352    ┆ 15669.599 ┆ 0.303    ┆ 52795.699 │\n",
       "│            ┆ 00:00:05   ┆          ┆ 625       ┆   ┆          ┆ 609       ┆          ┆ 219       │\n",
       "│ FLOWUSDT   ┆ 2025-07-01 ┆ 0.328    ┆ 168255.79 ┆ … ┆ 0.352    ┆ 15669.599 ┆ 0.303    ┆ 52795.699 │\n",
       "│            ┆ 00:00:10   ┆          ┆ 6875      ┆   ┆          ┆ 609       ┆          ┆ 219       │\n",
       "│ FLOWUSDT   ┆ 2025-07-01 ┆ 0.328    ┆ 168832.70 ┆ … ┆ 0.352    ┆ 15669.599 ┆ 0.303    ┆ 52795.699 │\n",
       "│            ┆ 00:00:15   ┆          ┆ 3125      ┆   ┆          ┆ 609       ┆          ┆ 219       │\n",
       "│ FLOWUSDT   ┆ 2025-07-01 ┆ 0.328    ┆ 176861.0  ┆ … ┆ 0.352    ┆ 15669.599 ┆ 0.303    ┆ 52795.699 │\n",
       "│            ┆ 00:00:20   ┆          ┆           ┆   ┆          ┆ 609       ┆          ┆ 219       │\n",
       "│ FLOWUSDT   ┆ 2025-07-01 ┆ 0.328    ┆ 199237.59 ┆ … ┆ 0.352    ┆ 15669.599 ┆ 0.303    ┆ 52795.699 │\n",
       "│            ┆ 00:00:25   ┆          ┆ 375       ┆   ┆          ┆ 609       ┆          ┆ 219       │\n",
       "│ …          ┆ …          ┆ …        ┆ …         ┆ … ┆ …        ┆ …         ┆ …        ┆ …         │\n",
       "│ 1000PEPEUS ┆ 2025-07-01 ┆ 0.009252 ┆ 992749.0  ┆ … ┆ 0.009254 ┆ 217380.0  ┆ 0.009249 ┆ 579621.0  │\n",
       "│ DT         ┆ 23:59:40   ┆          ┆           ┆   ┆          ┆           ┆          ┆           │\n",
       "│ 1000PEPEUS ┆ 2025-07-01 ┆ 0.009252 ┆ 580171.0  ┆ … ┆ 0.009254 ┆ 548913.0  ┆ 0.009249 ┆ 236705.0  │\n",
       "│ DT         ┆ 23:59:45   ┆          ┆           ┆   ┆          ┆           ┆          ┆           │\n",
       "│ 1000PEPEUS ┆ 2025-07-01 ┆ 0.009252 ┆ 605586.0  ┆ … ┆ 0.009254 ┆ 548913.0  ┆ 0.009249 ┆ 506812.0  │\n",
       "│ DT         ┆ 23:59:50   ┆          ┆           ┆   ┆          ┆           ┆          ┆           │\n",
       "│ 1000PEPEUS ┆ 2025-07-01 ┆ 0.009252 ┆ 521698.0  ┆ … ┆ 0.009254 ┆ 493472.0  ┆ 0.009249 ┆ 397502.0  │\n",
       "│ DT         ┆ 23:59:55   ┆          ┆           ┆   ┆          ┆           ┆          ┆           │\n",
       "│ 1000PEPEUS ┆ 2025-07-02 ┆ 0.009252 ┆ 34534.0   ┆ … ┆ 0.009255 ┆ 219906.0  ┆ 0.00925  ┆ 250558.0  │\n",
       "│ DT         ┆ 00:00:00   ┆          ┆           ┆   ┆          ┆           ┆          ┆           │\n",
       "└────────────┴────────────┴──────────┴───────────┴───┴──────────┴───────────┴──────────┴───────────┘"
      ]
     },
     "execution_count": 4,
     "metadata": {},
     "output_type": "execute_result"
    }
   ],
   "source": [
    "df"
   ]
  },
  {
   "cell_type": "code",
   "execution_count": null,
   "id": "2d7ee5af",
   "metadata": {},
   "outputs": [
    {
     "ename": "TypeError",
     "evalue": "'pyarrow.lib.ChunkedArray' object does not support item assignment",
     "output_type": "error",
     "traceback": [
      "\u001b[31m---------------------------------------------------------------------------\u001b[39m",
      "\u001b[31mTypeError\u001b[39m                                 Traceback (most recent call last)",
      "\u001b[36mCell\u001b[39m\u001b[36m \u001b[39m\u001b[32mIn[8]\u001b[39m\u001b[32m, line 1\u001b[39m\n\u001b[32m----> \u001b[39m\u001b[32m1\u001b[39m \u001b[43mpa_table\u001b[49m\u001b[43m[\u001b[49m\u001b[33;43m'\u001b[39;49m\u001b[33;43ma1_p\u001b[39;49m\u001b[33;43m'\u001b[39;49m\u001b[43m]\u001b[49m\u001b[43m[\u001b[49m\u001b[32;43m0\u001b[39;49m\u001b[43m]\u001b[49m = \u001b[32m0.328000009059907\u001b[39m\n",
      "\u001b[31mTypeError\u001b[39m: 'pyarrow.lib.ChunkedArray' object does not support item assignment"
     ]
    }
   ],
   "source": [
    "selected_columns = [f\"a{i}_v\" for i in range(1, 26)] + [f\"a{i}_p\" for i in range(1, 26)]"
   ]
  },
  {
   "cell_type": "code",
   "execution_count": 25,
   "id": "bd5c7bf8",
   "metadata": {},
   "outputs": [
    {
     "data": {
      "text/plain": [
       "0.328000009059906"
      ]
     },
     "execution_count": 25,
     "metadata": {},
     "output_type": "execute_result"
    }
   ],
   "source": [
    "df['a1_p'][0] "
   ]
  },
  {
   "cell_type": "code",
   "execution_count": 24,
   "id": "6d0df53f",
   "metadata": {},
   "outputs": [],
   "source": [
    "df[0,'a1_p'] =  0.328000009059906"
   ]
  }
 ],
 "metadata": {
  "kernelspec": {
   "display_name": "base",
   "language": "python",
   "name": "python3"
  },
  "language_info": {
   "codemirror_mode": {
    "name": "ipython",
    "version": 3
   },
   "file_extension": ".py",
   "mimetype": "text/x-python",
   "name": "python",
   "nbconvert_exporter": "python",
   "pygments_lexer": "ipython3",
   "version": "3.12.2"
  }
 },
 "nbformat": 4,
 "nbformat_minor": 5
}
