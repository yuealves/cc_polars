{
 "cells": [
  {
   "cell_type": "code",
   "execution_count": 1,
   "id": "cbf16587",
   "metadata": {},
   "outputs": [],
   "source": [
    "\n",
    "import polars as pl\n",
    "import pyarrow as pa\n",
    "from release.arrow_utils import extract_depth_feature, extract_depth_feature_from_arrow_table"
   ]
  },
  {
   "cell_type": "code",
   "execution_count": 2,
   "id": "d9379925",
   "metadata": {},
   "outputs": [],
   "source": [
    "df = pl.read_parquet(\"0701_5s.parquet\")"
   ]
  },
  {
   "cell_type": "code",
   "execution_count": 3,
   "id": "b48d141a",
   "metadata": {},
   "outputs": [
    {
     "name": "stdout",
     "output_type": "stream",
     "text": [
      "CPU times: user 20.8 ms, sys: 23.1 ms, total: 43.9 ms\n",
      "Wall time: 12.5 ms\n"
     ]
    }
   ],
   "source": [
    "selected_columns = [f\"a{i}_p\" for i in range(1, 26)] + [f\"a{i}_v\" for i in range(1, 26)]\n",
    "%time pa_table = df.select(selected_columns).to_arrow(compat_level=1)"
   ]
  },
  {
   "cell_type": "code",
   "execution_count": 14,
   "id": "c7f10033",
   "metadata": {},
   "outputs": [
    {
     "name": "stdout",
     "output_type": "stream",
     "text": [
      "CPU times: user 96.2 ms, sys: 13.8 ms, total: 110 ms\n",
      "Wall time: 110 ms\n",
      "CPU times: user 7.86 ms, sys: 2.86 ms, total: 10.7 ms\n",
      "Wall time: 5.59 ms\n"
     ]
    }
   ],
   "source": [
    "depth_list = [1e6, 5e6, 1e7]\n",
    "selected_columns = [f\"a{i}_p\" for i in range(1, 26)] + [f\"a{i}_v\" for i in range(1, 26)]\n",
    "pa_table = df.select(selected_columns).to_arrow(compat_level=1)\n",
    "%time feature_batches = [extract_depth_feature(batch, depth_list) for batch in pa_table.to_batches()]\n",
    "%time pl_features_from_batch = pl.from_arrow(feature_batches)"
   ]
  },
  {
   "cell_type": "code",
   "execution_count": null,
   "id": "ca5f7df4",
   "metadata": {},
   "outputs": [
    {
     "name": "stdout",
     "output_type": "stream",
     "text": [
      "CPU times: user 96.4 ms, sys: 23.5 ms, total: 120 ms\n",
      "Wall time: 33.9 ms\n",
      "CPU times: user 9.15 ms, sys: 1.01 ms, total: 10.2 ms\n",
      "Wall time: 5.39 ms\n"
     ]
    }
   ],
   "source": [
    "depth_list = [1e6, 5e6, 1e7]\n",
    "ask_columns = [f\"a{i}_p\" for i in range(1, 26)] + [f\"a{i}_v\" for i in range(1, 26)]\n",
    "ask_pa_table = df.select(ask_columns).to_arrow(compat_level=1)\n",
    "%time ask_features_pa_table = extract_depth_feature_from_arrow_table(ask_pa_table, depth_list)\n",
    "%time pl_ask_features = pl.from_arrow(ask_features_pa_table)\n",
    "pl_ask_features.columns = [f\"a_depth_{i}\" for i in range(len(depth_list))]\n",
    "bid_columns = [f\"b{i}_p\" for i in range(1, 26)] + [f\"b{i}_v\" for i in range(1, 26)]\n",
    "bid_pa_table = df.select(bid_columns).to_arrow(compat_level=1)"
   ]
  },
  {
   "cell_type": "code",
   "execution_count": 24,
   "id": "81b2873a",
   "metadata": {},
   "outputs": [],
   "source": [
    "pl_ask_features.columns = [f\"a_depth_{i}\" for i in range(len(depth_list))]"
   ]
  },
  {
   "cell_type": "code",
   "execution_count": 25,
   "id": "8947332a",
   "metadata": {},
   "outputs": [
    {
     "data": {
      "text/html": [
       "<div><style>\n",
       ".dataframe > thead > tr,\n",
       ".dataframe > tbody > tr {\n",
       "  text-align: right;\n",
       "  white-space: pre-wrap;\n",
       "}\n",
       "</style>\n",
       "<small>shape: (967_584, 3)</small><table border=\"1\" class=\"dataframe\"><thead><tr><th>a_depth_0</th><th>a_depth_1</th><th>a_depth_2</th></tr><tr><td>f64</td><td>f64</td><td>f64</td></tr></thead><tbody><tr><td>0.352</td><td>0.352</td><td>0.352</td></tr><tr><td>0.352</td><td>0.352</td><td>0.352</td></tr><tr><td>0.352</td><td>0.352</td><td>0.352</td></tr><tr><td>0.352</td><td>0.352</td><td>0.352</td></tr><tr><td>0.352</td><td>0.352</td><td>0.352</td></tr><tr><td>&hellip;</td><td>&hellip;</td><td>&hellip;</td></tr><tr><td>0.009254</td><td>0.009254</td><td>0.009254</td></tr><tr><td>0.009254</td><td>0.009254</td><td>0.009254</td></tr><tr><td>0.009254</td><td>0.009254</td><td>0.009254</td></tr><tr><td>0.009254</td><td>0.009254</td><td>0.009254</td></tr><tr><td>0.009255</td><td>0.009255</td><td>0.009255</td></tr></tbody></table></div>"
      ],
      "text/plain": [
       "shape: (967_584, 3)\n",
       "┌───────────┬───────────┬───────────┐\n",
       "│ a_depth_0 ┆ a_depth_1 ┆ a_depth_2 │\n",
       "│ ---       ┆ ---       ┆ ---       │\n",
       "│ f64       ┆ f64       ┆ f64       │\n",
       "╞═══════════╪═══════════╪═══════════╡\n",
       "│ 0.352     ┆ 0.352     ┆ 0.352     │\n",
       "│ 0.352     ┆ 0.352     ┆ 0.352     │\n",
       "│ 0.352     ┆ 0.352     ┆ 0.352     │\n",
       "│ 0.352     ┆ 0.352     ┆ 0.352     │\n",
       "│ 0.352     ┆ 0.352     ┆ 0.352     │\n",
       "│ …         ┆ …         ┆ …         │\n",
       "│ 0.009254  ┆ 0.009254  ┆ 0.009254  │\n",
       "│ 0.009254  ┆ 0.009254  ┆ 0.009254  │\n",
       "│ 0.009254  ┆ 0.009254  ┆ 0.009254  │\n",
       "│ 0.009254  ┆ 0.009254  ┆ 0.009254  │\n",
       "│ 0.009255  ┆ 0.009255  ┆ 0.009255  │\n",
       "└───────────┴───────────┴───────────┘"
      ]
     },
     "execution_count": 25,
     "metadata": {},
     "output_type": "execute_result"
    }
   ],
   "source": [
    "pl_ask_features"
   ]
  },
  {
   "cell_type": "code",
   "execution_count": null,
   "id": "1d8d98c1",
   "metadata": {},
   "outputs": [
    {
     "ename": "AttributeError",
     "evalue": "'list' object has no attribute 'keys'",
     "output_type": "error",
     "traceback": [
      "\u001b[0;31m---------------------------------------------------------------------------\u001b[0m",
      "\u001b[0;31mAttributeError\u001b[0m                            Traceback (most recent call last)",
      "Cell \u001b[0;32mIn[22], line 1\u001b[0m\n\u001b[0;32m----> 1\u001b[0m pl_ask_features\u001b[38;5;241m.\u001b[39mrename([\u001b[38;5;124mf\u001b[39m\u001b[38;5;124m\"\u001b[39m\u001b[38;5;124ma_depth_\u001b[39m\u001b[38;5;132;01m{\u001b[39;00mi\u001b[38;5;132;01m}\u001b[39;00m\u001b[38;5;124m\"\u001b[39m \u001b[38;5;28;01mfor\u001b[39;00m i \u001b[38;5;129;01min\u001b[39;00m \u001b[38;5;28mrange\u001b[39m(\u001b[38;5;28mlen\u001b[39m(depth_list))])\n",
      "File \u001b[0;32m~/anaconda3/lib/python3.12/site-packages/polars/dataframe/frame.py:4934\u001b[0m, in \u001b[0;36mDataFrame.rename\u001b[0;34m(self, mapping, strict)\u001b[0m\n\u001b[1;32m   4889\u001b[0m \u001b[38;5;250m\u001b[39m\u001b[38;5;124;03m\"\"\"\u001b[39;00m\n\u001b[1;32m   4890\u001b[0m \u001b[38;5;124;03mRename column names.\u001b[39;00m\n\u001b[1;32m   4891\u001b[0m \n\u001b[0;32m   (...)\u001b[0m\n\u001b[1;32m   4928\u001b[0m \u001b[38;5;124;03m└─────┴─────┴─────┘\u001b[39;00m\n\u001b[1;32m   4929\u001b[0m \u001b[38;5;124;03m\"\"\"\u001b[39;00m\n\u001b[1;32m   4930\u001b[0m \u001b[38;5;28;01mfrom\u001b[39;00m \u001b[38;5;21;01mpolars\u001b[39;00m\u001b[38;5;21;01m.\u001b[39;00m\u001b[38;5;21;01mlazyframe\u001b[39;00m\u001b[38;5;21;01m.\u001b[39;00m\u001b[38;5;21;01mopt_flags\u001b[39;00m \u001b[38;5;28;01mimport\u001b[39;00m QueryOptFlags\n\u001b[1;32m   4932\u001b[0m \u001b[38;5;28;01mreturn\u001b[39;00m (\n\u001b[1;32m   4933\u001b[0m     \u001b[38;5;28mself\u001b[39m\u001b[38;5;241m.\u001b[39mlazy()\n\u001b[0;32m-> 4934\u001b[0m     \u001b[38;5;241m.\u001b[39mrename(mapping, strict\u001b[38;5;241m=\u001b[39mstrict)\n\u001b[1;32m   4935\u001b[0m     \u001b[38;5;241m.\u001b[39mcollect(optimizations\u001b[38;5;241m=\u001b[39mQueryOptFlags\u001b[38;5;241m.\u001b[39m_eager())\n\u001b[1;32m   4936\u001b[0m )\n",
      "File \u001b[0;32m~/anaconda3/lib/python3.12/site-packages/polars/lazyframe/frame.py:6126\u001b[0m, in \u001b[0;36mLazyFrame.rename\u001b[0;34m(self, mapping, strict)\u001b[0m\n\u001b[1;32m   6124\u001b[0m     \u001b[38;5;28;01mreturn\u001b[39;00m \u001b[38;5;28mself\u001b[39m\u001b[38;5;241m.\u001b[39mselect(F\u001b[38;5;241m.\u001b[39mall()\u001b[38;5;241m.\u001b[39mname\u001b[38;5;241m.\u001b[39mmap(mapping))\n\u001b[1;32m   6125\u001b[0m \u001b[38;5;28;01melse\u001b[39;00m:\n\u001b[0;32m-> 6126\u001b[0m     existing \u001b[38;5;241m=\u001b[39m \u001b[38;5;28mlist\u001b[39m(mapping\u001b[38;5;241m.\u001b[39mkeys())\n\u001b[1;32m   6127\u001b[0m     new \u001b[38;5;241m=\u001b[39m \u001b[38;5;28mlist\u001b[39m(mapping\u001b[38;5;241m.\u001b[39mvalues())\n\u001b[1;32m   6128\u001b[0m     \u001b[38;5;28;01mreturn\u001b[39;00m \u001b[38;5;28mself\u001b[39m\u001b[38;5;241m.\u001b[39m_from_pyldf(\u001b[38;5;28mself\u001b[39m\u001b[38;5;241m.\u001b[39m_ldf\u001b[38;5;241m.\u001b[39mrename(existing, new, strict))\n",
      "\u001b[0;31mAttributeError\u001b[0m: 'list' object has no attribute 'keys'"
     ]
    }
   ],
   "source": [
    "pl_ask_features.col rename([f\"a_depth_{i}\" for i in range(len(depth_list))])"
   ]
  },
  {
   "cell_type": "code",
   "execution_count": 15,
   "id": "fb7173f8",
   "metadata": {},
   "outputs": [
    {
     "data": {
      "text/html": [
       "<div><style>\n",
       ".dataframe > thead > tr,\n",
       ".dataframe > tbody > tr {\n",
       "  text-align: right;\n",
       "  white-space: pre-wrap;\n",
       "}\n",
       "</style>\n",
       "<small>shape: (967_584, 3)</small><table border=\"1\" class=\"dataframe\"><thead><tr><th>feature_depth_0</th><th>feature_depth_1</th><th>feature_depth_2</th></tr><tr><td>bool</td><td>bool</td><td>bool</td></tr></thead><tbody><tr><td>true</td><td>true</td><td>true</td></tr><tr><td>true</td><td>true</td><td>true</td></tr><tr><td>true</td><td>true</td><td>true</td></tr><tr><td>true</td><td>true</td><td>true</td></tr><tr><td>true</td><td>true</td><td>true</td></tr><tr><td>&hellip;</td><td>&hellip;</td><td>&hellip;</td></tr><tr><td>true</td><td>true</td><td>true</td></tr><tr><td>true</td><td>true</td><td>true</td></tr><tr><td>true</td><td>true</td><td>true</td></tr><tr><td>true</td><td>true</td><td>true</td></tr><tr><td>true</td><td>true</td><td>true</td></tr></tbody></table></div>"
      ],
      "text/plain": [
       "shape: (967_584, 3)\n",
       "┌─────────────────┬─────────────────┬─────────────────┐\n",
       "│ feature_depth_0 ┆ feature_depth_1 ┆ feature_depth_2 │\n",
       "│ ---             ┆ ---             ┆ ---             │\n",
       "│ bool            ┆ bool            ┆ bool            │\n",
       "╞═════════════════╪═════════════════╪═════════════════╡\n",
       "│ true            ┆ true            ┆ true            │\n",
       "│ true            ┆ true            ┆ true            │\n",
       "│ true            ┆ true            ┆ true            │\n",
       "│ true            ┆ true            ┆ true            │\n",
       "│ true            ┆ true            ┆ true            │\n",
       "│ …               ┆ …               ┆ …               │\n",
       "│ true            ┆ true            ┆ true            │\n",
       "│ true            ┆ true            ┆ true            │\n",
       "│ true            ┆ true            ┆ true            │\n",
       "│ true            ┆ true            ┆ true            │\n",
       "│ true            ┆ true            ┆ true            │\n",
       "└─────────────────┴─────────────────┴─────────────────┘"
      ]
     },
     "execution_count": 15,
     "metadata": {},
     "output_type": "execute_result"
    }
   ],
   "source": [
    "pl_features_from_batch == pl_features_from_table"
   ]
  },
  {
   "cell_type": "code",
   "execution_count": null,
   "id": "2d7ee5af",
   "metadata": {},
   "outputs": [
    {
     "ename": "TypeError",
     "evalue": "'pyarrow.lib.ChunkedArray' object does not support item assignment",
     "output_type": "error",
     "traceback": [
      "\u001b[31m---------------------------------------------------------------------------\u001b[39m",
      "\u001b[31mTypeError\u001b[39m                                 Traceback (most recent call last)",
      "\u001b[36mCell\u001b[39m\u001b[36m \u001b[39m\u001b[32mIn[8]\u001b[39m\u001b[32m, line 1\u001b[39m\n\u001b[32m----> \u001b[39m\u001b[32m1\u001b[39m \u001b[43mpa_table\u001b[49m\u001b[43m[\u001b[49m\u001b[33;43m'\u001b[39;49m\u001b[33;43ma1_p\u001b[39;49m\u001b[33;43m'\u001b[39;49m\u001b[43m]\u001b[49m\u001b[43m[\u001b[49m\u001b[32;43m0\u001b[39;49m\u001b[43m]\u001b[49m = \u001b[32m0.328000009059907\u001b[39m\n",
      "\u001b[31mTypeError\u001b[39m: 'pyarrow.lib.ChunkedArray' object does not support item assignment"
     ]
    }
   ],
   "source": [
    "selected_columns = [f\"a{i}_v\" for i in range(1, 26)] + [f\"a{i}_p\" for i in range(1, 26)]"
   ]
  },
  {
   "cell_type": "code",
   "execution_count": 25,
   "id": "bd5c7bf8",
   "metadata": {},
   "outputs": [
    {
     "data": {
      "text/plain": [
       "0.328000009059906"
      ]
     },
     "execution_count": 25,
     "metadata": {},
     "output_type": "execute_result"
    }
   ],
   "source": [
    "df['a1_p'][0] "
   ]
  },
  {
   "cell_type": "code",
   "execution_count": 24,
   "id": "6d0df53f",
   "metadata": {},
   "outputs": [],
   "source": [
    "df[0,'a1_p'] =  0.328000009059906"
   ]
  }
 ],
 "metadata": {
  "kernelspec": {
   "display_name": "base",
   "language": "python",
   "name": "python3"
  },
  "language_info": {
   "codemirror_mode": {
    "name": "ipython",
    "version": 3
   },
   "file_extension": ".py",
   "mimetype": "text/x-python",
   "name": "python",
   "nbconvert_exporter": "python",
   "pygments_lexer": "ipython3",
   "version": "3.12.2"
  }
 },
 "nbformat": 4,
 "nbformat_minor": 5
}
